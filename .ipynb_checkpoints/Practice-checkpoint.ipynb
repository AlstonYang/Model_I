{
 "cells": [
  {
   "cell_type": "markdown",
   "metadata": {
    "id": "V3ckGCsc59zR"
   },
   "source": [
    "## Import related API"
   ]
  },
  {
   "cell_type": "code",
   "execution_count": null,
   "metadata": {
    "executionInfo": {
     "elapsed": 1499,
     "status": "ok",
     "timestamp": 1615774299699,
     "user": {
      "displayName": "楊仁瀚",
      "photoUrl": "",
      "userId": "10638930497464391672"
     },
     "user_tz": -480
    },
    "id": "DZ7-4Lqg3y5y"
   },
   "outputs": [],
   "source": [
    "import pandas as pd\n",
    "import numpy as np\n",
    "import matplotlib.pyplot as plt\n",
    "# from google.colab import drive"
   ]
  },
  {
   "cell_type": "code",
   "execution_count": null,
   "metadata": {
    "colab": {
     "base_uri": "https://localhost:8080/"
    },
    "executionInfo": {
     "elapsed": 1514,
     "status": "ok",
     "timestamp": 1615774300075,
     "user": {
      "displayName": "楊仁瀚",
      "photoUrl": "",
      "userId": "10638930497464391672"
     },
     "user_tz": -480
    },
    "id": "Zh7dVBoB440S",
    "outputId": "4a18c0cd-5221-48aa-eb03-44e5ac084d96"
   },
   "outputs": [],
   "source": [
    "# drive.mount('/content/gdrive')"
   ]
  },
  {
   "cell_type": "markdown",
   "metadata": {
    "id": "foyEDjXa6FrE"
   },
   "source": [
    "## Read file"
   ]
  },
  {
   "cell_type": "code",
   "execution_count": null,
   "metadata": {
    "executionInfo": {
     "elapsed": 1193,
     "status": "ok",
     "timestamp": 1615774300076,
     "user": {
      "displayName": "楊仁瀚",
      "photoUrl": "",
      "userId": "10638930497464391672"
     },
     "user_tz": -480
    },
    "id": "ckCcqkcQ4Zki"
   },
   "outputs": [],
   "source": [
    "def read(path):\n",
    "    return pd.read_csv(path)"
   ]
  },
  {
   "cell_type": "markdown",
   "metadata": {
    "id": "dcZxvOyo6bjr"
   },
   "source": [
    "Read file from Google Drive"
   ]
  },
  {
   "cell_type": "code",
   "execution_count": null,
   "metadata": {
    "executionInfo": {
     "elapsed": 1118,
     "status": "ok",
     "timestamp": 1615774300363,
     "user": {
      "displayName": "楊仁瀚",
      "photoUrl": "",
      "userId": "10638930497464391672"
     },
     "user_tz": -480
    },
    "id": "sbbk2VKh5LWS"
   },
   "outputs": [],
   "source": [
    "path = \"WeelyFinalData.csv\"\n",
    "finalData = read(path)"
   ]
  },
  {
   "cell_type": "markdown",
   "metadata": {
    "id": "wE-nv9f15Vjc"
   },
   "source": [
    "Drop Date indicacy from the data"
   ]
  },
  {
   "cell_type": "code",
   "execution_count": 21,
   "metadata": {
    "executionInfo": {
     "elapsed": 692,
     "status": "ok",
     "timestamp": 1615774300364,
     "user": {
      "displayName": "楊仁瀚",
      "photoUrl": "",
      "userId": "10638930497464391672"
     },
     "user_tz": -480
    },
    "id": "mcYRHZvx4ooS"
   },
   "outputs": [],
   "source": [
    "# train = finalData.drop([\"Date\"], axis=1)\n",
    "train = finalData"
   ]
  },
  {
   "cell_type": "markdown",
   "metadata": {
    "id": "BfVrRO09NWNE"
   },
   "source": [
    "## Visualization for raw data"
   ]
  },
  {
   "cell_type": "code",
   "execution_count": 22,
   "metadata": {
    "executionInfo": {
     "elapsed": 744,
     "status": "ok",
     "timestamp": 1615774300681,
     "user": {
      "displayName": "楊仁瀚",
      "photoUrl": "",
      "userId": "10638930497464391672"
     },
     "user_tz": -480
    },
    "id": "TGihkGDpVIRP"
   },
   "outputs": [],
   "source": [
    "# import os \n",
    "# os.chdir(\"/content/gdrive/My Drive/Colab Notebooks\")"
   ]
  },
  {
   "cell_type": "code",
   "execution_count": 23,
   "metadata": {
    "executionInfo": {
     "elapsed": 565,
     "status": "ok",
     "timestamp": 1615774300681,
     "user": {
      "displayName": "楊仁瀚",
      "photoUrl": "",
      "userId": "10638930497464391672"
     },
     "user_tz": -480
    },
    "id": "kBJtLYEyKEvb"
   },
   "outputs": [],
   "source": [
    "def show_raw_visualization(data):\n",
    "\n",
    "    fig, axes = plt.subplots(\n",
    "        nrows=1, ncols=2, figsize=(15, 20), dpi=80, facecolor=\"w\", edgecolor=\"k\"\n",
    "    )\n",
    "\n",
    "    for i in range(data.shape[1]):\n",
    "        t_data = data.iloc[:,i]\n",
    "        ax = t_data.plot(\n",
    "            ax=axes[i // 2, i % 2],\n",
    "            color=\"black\",\n",
    "            title=data.columns[i]\n",
    "        )\n",
    "        \n",
    "    plt.tight_layout()\n",
    "    plt.savefig('/content/gdrive/My Drive/Colab Notebooks/raw_data.png')\n",
    "\n",
    "\n",
    "# show_raw_visualization(train)"
   ]
  },
  {
   "cell_type": "markdown",
   "metadata": {
    "id": "M4o7VDtq1jf9"
   },
   "source": [
    "Dismiss presented by scientific notation"
   ]
  },
  {
   "cell_type": "code",
   "execution_count": 55,
   "metadata": {
    "colab": {
     "base_uri": "https://localhost:8080/",
     "height": 419
    },
    "executionInfo": {
     "elapsed": 591,
     "status": "ok",
     "timestamp": 1615774301061,
     "user": {
      "displayName": "楊仁瀚",
      "photoUrl": "",
      "userId": "10638930497464391672"
     },
     "user_tz": -480
    },
    "id": "H3uOV1nA1ENI",
    "outputId": "cd93040d-3051-427e-ee51-3b5b87bc0588"
   },
   "outputs": [
    {
     "name": "stdout",
     "output_type": "stream",
     "text": [
      "        CCSP     CDCS     ADCS      CDWS       GL      NDCS  NRBCON     SL  \\\n",
      "0    58960.0  7864.00  2126.40  423475.0  1737.46  18794.80    2.63  34.09   \n",
      "1    57595.0  7654.70  2116.47  411505.0  1779.54  18253.00    2.66  34.51   \n",
      "2    57775.0  7625.90  2108.35  401500.0  1753.61  17876.40    2.55  33.28   \n",
      "3    56015.0  7248.95  2017.10  396255.0  1689.11  17287.80    2.51  31.79   \n",
      "4    57365.0  7684.15  2073.60  388955.0  1733.17  17230.05    2.56  32.40   \n",
      "..       ...      ...      ...       ...      ...       ...     ...    ...   \n",
      "475  57328.0  7691.95  2010.93  149685.0  1848.03  16173.71    1.26  24.26   \n",
      "476  57620.0  7762.19  2024.22  146080.0  1838.77  17263.05    1.31  24.03   \n",
      "477  58530.0  7846.47  2019.03  125365.0  1873.15  17198.90    1.37  25.68   \n",
      "478  58332.0  7804.34  2008.50  116117.5  1876.39  16887.75    1.38  25.90   \n",
      "479  58070.0  7777.33  1981.77  108925.0  1896.63  16608.83    1.41  26.43   \n",
      "\n",
      "        ZSCS  EURUSD  USDCLP  USDCNY  USDPEN  USInflation  ChinaInflation  \n",
      "0    1941.70    1.37  494.29    6.35    2.71         3.42            4.46  \n",
      "1    1932.15    1.37  499.35    6.35    2.70         3.40            4.20  \n",
      "2    1931.60    1.35  508.30    6.35    2.70         3.40            4.20  \n",
      "3    1910.55    1.34  521.86    6.36    2.70         3.40            4.20  \n",
      "4    2018.05    1.34  518.34    6.35    2.70         3.24            4.16  \n",
      "..       ...     ...     ...     ...     ...          ...             ...  \n",
      "475  2744.85    1.21  747.70    6.54    3.59         1.40            0.20  \n",
      "476  2803.42    1.21  736.47    6.54    3.59         1.40            0.20  \n",
      "477  2808.04    1.22  725.59    6.54    3.60         1.40            0.20  \n",
      "478  2788.87    1.22  713.83    6.53    3.61         1.40            0.20  \n",
      "479  2741.14    1.22  709.83    6.52    3.62         1.40            0.20  \n",
      "\n",
      "[480 rows x 15 columns]\n"
     ]
    }
   ],
   "source": [
    "print(train)"
   ]
  },
  {
   "cell_type": "markdown",
   "metadata": {
    "id": "qOMLTo856gQc"
   },
   "source": [
    "## Add lag time from 1~4 for CCSP"
   ]
  },
  {
   "cell_type": "code",
   "execution_count": 66,
   "metadata": {
    "executionInfo": {
     "elapsed": 799,
     "status": "ok",
     "timestamp": 1615774302052,
     "user": {
      "displayName": "楊仁瀚",
      "photoUrl": "",
      "userId": "10638930497464391672"
     },
     "user_tz": -480
    },
    "id": "dXrI2P985jos"
   },
   "outputs": [],
   "source": [
    "def buildTrain(train, pastWeek=1, futureWeek=4, defaultWeek=1):\n",
    "    X_train, Y_train = [], []\n",
    "    for i in range(train.shape[0]-futureWeek-pastWeek):\n",
    "        X = np.array(train.iloc[i:i+defaultWeek])\n",
    "        X = np.append(X,train.iloc[i+defaultWeek:i+pastWeek,:9])\n",
    "        X_train.append(X.reshape(X.size))\n",
    "        Y_train.append(np.array(train.iloc[i+pastWeek:i+pastWeek+futureWeek][\"CCSP\"]))\n",
    "    return np.array(X_train), np.array(Y_train)"
   ]
  },
  {
   "cell_type": "code",
   "execution_count": 67,
   "metadata": {
    "colab": {
     "base_uri": "https://localhost:8080/"
    },
    "executionInfo": {
     "elapsed": 688,
     "status": "ok",
     "timestamp": 1615774302360,
     "user": {
      "displayName": "楊仁瀚",
      "photoUrl": "",
      "userId": "10638930497464391672"
     },
     "user_tz": -480
    },
    "id": "q0DpyS0gSzwZ",
    "outputId": "6a356d87-b741-4dba-e428-3ada27ca27bd"
   },
   "outputs": [
    {
     "data": {
      "text/plain": [
       "array([2, 3, 4])"
      ]
     },
     "execution_count": 67,
     "metadata": {},
     "output_type": "execute_result"
    }
   ],
   "source": [
    "a = np.array([[0,1,2],[2,3,4]])\n",
    "a[1]"
   ]
  },
  {
   "cell_type": "markdown",
   "metadata": {
    "id": "vhOa2mmvQ_JA"
   },
   "source": [
    "## Test"
   ]
  },
  {
   "cell_type": "code",
   "execution_count": 68,
   "metadata": {},
   "outputs": [],
   "source": [
    "np.set_printoptions(suppress=True)"
   ]
  },
  {
   "cell_type": "code",
   "execution_count": 69,
   "metadata": {
    "colab": {
     "base_uri": "https://localhost:8080/"
    },
    "executionInfo": {
     "elapsed": 1314,
     "status": "ok",
     "timestamp": 1615774303520,
     "user": {
      "displayName": "楊仁瀚",
      "photoUrl": "",
      "userId": "10638930497464391672"
     },
     "user_tz": -480
    },
    "id": "fbfAVl9WQXey",
    "outputId": "85592271-b468-499d-decf-b36071cd36d3"
   },
   "outputs": [
    {
     "name": "stdout",
     "output_type": "stream",
     "text": [
      "X1_Training_shape:(475, 15)\n",
      "Y1_Training_shape:(475, 4)\n",
      "X[0]:[ 58960.     7864.     2126.4  423475.     1737.46  18794.8       2.63\n",
      "     34.09   1941.7       1.37    494.29      6.35      2.71      3.42\n",
      "      4.46]\n",
      "Y[0]:[57595. 57775. 56015. 57365.]\n",
      "------------------------------\n",
      "X1_Training_shape:(474, 24)\n",
      "Y1_Training_shape:(474, 4)\n",
      "X[0]:[ 58960.     7864.     2126.4  423475.     1737.46  18794.8       2.63\n",
      "     34.09   1941.7       1.37    494.29      6.35      2.71      3.42\n",
      "      4.46  57595.     7654.7    2116.47 411505.     1779.54  18253.\n",
      "      2.66     34.51   1932.15]\n",
      "Y[0]:[57775. 56015. 57365. 58135.]\n",
      "------------------------------\n",
      "X1_Training_shape:(473, 33)\n",
      "Y1_Training_shape:(473, 4)\n",
      "X[0]:[ 58960.     7864.     2126.4  423475.     1737.46  18794.8       2.63\n",
      "     34.09   1941.7       1.37    494.29      6.35      2.71      3.42\n",
      "      4.46  57595.     7654.7    2116.47 411505.     1779.54  18253.\n",
      "      2.66     34.51   1932.15  57775.     7625.9    2108.35 401500.\n",
      "   1753.61  17876.4       2.55     33.28   1931.6 ]\n",
      "Y[0]:[56015. 57365. 58135. 55970.]\n",
      "------------------------------\n",
      "X1_Training_shape:(472, 42)\n",
      "Y1_Training_shape:(472, 4)\n",
      "X[0]:[ 58960.     7864.     2126.4  423475.     1737.46  18794.8       2.63\n",
      "     34.09   1941.7       1.37    494.29      6.35      2.71      3.42\n",
      "      4.46  57595.     7654.7    2116.47 411505.     1779.54  18253.\n",
      "      2.66     34.51   1932.15  57775.     7625.9    2108.35 401500.\n",
      "   1753.61  17876.4       2.55     33.28   1931.6   56015.     7248.95\n",
      "   2017.1  396255.     1689.11  17287.8       2.51     31.79   1910.55]\n",
      "Y[0]:[57365. 58135. 55970. 54960.]\n",
      "------------------------------\n"
     ]
    }
   ],
   "source": [
    "for i in range(4):\n",
    "    X1_train, Y1_train= buildTrain(train, pastWeek=i+1)\n",
    "    print(\"X1_Training_shape:{}\".format(X1_train.shape))\n",
    "    print(\"Y1_Training_shape:{}\".format(Y1_train.shape))\n",
    "    print(\"X[0]:{}\".format(X1_train[0]))\n",
    "    print(\"Y[0]:{}\".format(Y1_train[0]))\n",
    "    print(\"-\"*30)"
   ]
  },
  {
   "cell_type": "markdown",
   "metadata": {
    "id": "81uzEl3f7plM"
   },
   "source": [
    "##Split the data to Training set & Test set"
   ]
  },
  {
   "cell_type": "code",
   "execution_count": 70,
   "metadata": {
    "executionInfo": {
     "elapsed": 1075,
     "status": "ok",
     "timestamp": 1615774303861,
     "user": {
      "displayName": "楊仁瀚",
      "photoUrl": "",
      "userId": "10638930497464391672"
     },
     "user_tz": -480
    },
    "id": "q4tnCc9Ci5-3"
   },
   "outputs": [],
   "source": [
    "from sklearn.preprocessing import MinMaxScaler\n",
    "sc = MinMaxScaler(feature_range = (0, 1))"
   ]
  },
  {
   "cell_type": "markdown",
   "metadata": {
    "id": "PqNv5vJyPsBE"
   },
   "source": [
    "##Building LSTM\n",
    "[Reference](https://ithelp.ithome.com.tw/articles/10206312)"
   ]
  },
  {
   "cell_type": "markdown",
   "metadata": {
    "id": "fXho5zzj6N9J"
   },
   "source": [
    "import related package"
   ]
  },
  {
   "cell_type": "code",
   "execution_count": 74,
   "metadata": {
    "executionInfo": {
     "elapsed": 1021,
     "status": "ok",
     "timestamp": 1615774304649,
     "user": {
      "displayName": "楊仁瀚",
      "photoUrl": "",
      "userId": "10638930497464391672"
     },
     "user_tz": -480
    },
    "id": "vsd_iTwBPrWC"
   },
   "outputs": [],
   "source": [
    "import tensorflow.keras as keras\n",
    "from tensorflow.keras import Sequential, layers\n",
    "from tensorflow.keras.layers import Dense, LSTM, Dropout, TimeDistributed, LeakyReLU, GRU\n",
    "from keras.layers.core import RepeatVector\n",
    "from keras.callbacks import EarlyStopping"
   ]
  },
  {
   "cell_type": "code",
   "execution_count": 75,
   "metadata": {
    "executionInfo": {
     "elapsed": 823,
     "status": "ok",
     "timestamp": 1615774304650,
     "user": {
      "displayName": "楊仁瀚",
      "photoUrl": "",
      "userId": "10638930497464391672"
     },
     "user_tz": -480
    },
    "id": "BVmQxhxKwuJF"
   },
   "outputs": [],
   "source": [
    "def buildTwoLayerNN(training_data_shape):\n",
    "\n",
    "    keras.backend.clear_session()\n",
    "    regressor = Sequential()\n",
    "    regressor.add(Dense(units=20, activation =\"relu\", input_shape=(training_data_shape,1)))\n",
    "    regressor.add(Dense(units=20, activation =\"relu\"))\n",
    "    regressor.add(Dense(units=1))\n",
    "\n",
    "    regressor.compile(optimizer=\"adam\", loss='mean_squared_error', metrics=[\"accuracy\"])\n",
    "    regressor.summary()\n",
    "\n",
    "    return regressor"
   ]
  },
  {
   "cell_type": "code",
   "execution_count": null,
   "metadata": {
    "executionInfo": {
     "elapsed": 585,
     "status": "ok",
     "timestamp": 1615774304652,
     "user": {
      "displayName": "楊仁瀚",
      "photoUrl": "",
      "userId": "10638930497464391672"
     },
     "user_tz": -480
    },
    "id": "IGLvMrfoQD7v"
   },
   "outputs": [],
   "source": [
    "def buildLSTMModel(training_data_shape):\n",
    "\n",
    "    keras.backend.clear_session()\n",
    "\n",
    "    regressor = Sequential()\n",
    "\n",
    "    regressor.add(LSTM(units=20, return_sequences=True, activation = LeakyReLU(alpha=0.1), input_shape=(training_data_shape,1)))\n",
    "    regressor.add(BatchNormalization())\n",
    "    regressor.add(LSTM(units=40, return_sequences=True, activation = LeakyReLU(alpha=0.1)))\n",
    "    regressor.add(BatchNormalization())\n",
    "    regressor.add(LSTM(units=60, return_sequences=True, activation = LeakyReLU(alpha=0.1)))\n",
    "    regressor.add(BatchNormalization())\n",
    "    regressor.add(GRU(units=80, return_sequences=True, activation = LeakyReLU(alpha=0.1)))\n",
    "    regressor.add(BatchNormalization())\n",
    "    regressor.add(GRU(units=60, return_sequences=True, activation = LeakyReLU(alpha=0.1)))\n",
    "    regressor.add(BatchNormalization())\n",
    "    regressor.add(GRU(units=40, return_sequences=True, activation = LeakyReLU(alpha=0.1)))\n",
    "    regressor.add(BatchNormalization())\n",
    "    regressor.add(GRU(units=20, return_sequences=True, activation = LeakyReLU(alpha=0.1)))\n",
    "    regressor.add(GRU(units=1))\n",
    "#     regressor.add(RepeatVector(4))\n",
    "\n",
    "    # regressor.compile(optimizer=\"adam\", loss='mean_squared_error')\n",
    "    regressor.compile(optimizer=\"adam\", loss='mean_squared_error', metrics=[\"accuracy\"])\n",
    "    regressor.summary()\n",
    "\n",
    "    return regressor"
   ]
  },
  {
   "cell_type": "code",
   "execution_count": null,
   "metadata": {
    "colab": {
     "base_uri": "https://localhost:8080/"
    },
    "id": "9aCU6PXt7Ydb",
    "outputId": "02a8a4b4-7c7f-4ad3-a697-57b094eac89a"
   },
   "outputs": [],
   "source": [
    "for i in range(4):\n",
    "\n",
    "    print(\"Lag time = {}\".format(i+1))\n",
    "    ## Time lag\n",
    "    X1_train, Y1_train= buildTrain(train, pastWeek=i+1, futureWeek=1)\n",
    "\n",
    "    ## Split date to training & test data\n",
    "    X1_training = np.round(pd.DataFrame(X1_train[0:int(X1_train.shape[0]*0.8)]),2)\n",
    "    X1_test = np.round(pd.DataFrame(X1_train[int(X1_train.shape[0]*0.8):]),2)\n",
    "\n",
    "    Y1_training = np.round(pd.DataFrame(Y1_train[0:int(Y1_train.shape[0]*0.8)]),2)\n",
    "    Y1_test = np.round(pd.DataFrame(Y1_train[int(Y1_train.shape[0]*0.8):]),2)\n",
    "\n",
    "    ## Normalize\n",
    "    print(\"---Normalize---\")\n",
    "    X1_training_scaled = sc.fit_transform(X1_training)\n",
    "    X1_test_scaled = sc.transform(X1_test)\n",
    "\n",
    "    Y1_training_scaled = sc.fit_transform(Y1_training)\n",
    "    print(\"The shape of Y1_training: {}\".format(Y1_training_scaled.shape))\n",
    "    Y1_test_scaled = sc.transform(Y1_test)\n",
    "    print(\"The shape of Y1_test_scaled: {}\".format(Y1_test_scaled.shape))\n",
    "\n",
    "    ## Reshape the data to 3-dimensions\n",
    "\n",
    "\n",
    "    X1_training_scaled = X1_training_scaled.reshape(X1_training_scaled .shape[0],X1_training_scaled .shape[1],1)\n",
    "    Y1_training_scaled = Y1_training_scaled.reshape(Y1_training_scaled.shape[0],Y1_training_scaled.shape[1],1)\n",
    "\n",
    "    X1_test_scaled = X1_test_scaled.reshape(X1_test_scaled.shape[0],X1_test_scaled.shape[1],1)\n",
    "    Y1_test_scaled = Y1_test_scaled.reshape(Y1_test_scaled.shape[0],Y1_test_scaled.shape[1],1)\n",
    "\n",
    "    print(\"---Reshape the data to 3-dimensions---\")\n",
    "    print(\"X1_training_scaled:{0}\".format(X1_training_scaled.shape))\n",
    "    print(\"Y1_train_scaled:{0}\".format(Y1_training_scaled.shape))\n",
    "    print(\"X1_test_scaled:{0}\".format(X1_test_scaled.shape))\n",
    "    print(\"Y1_test_scaled:{0}\".format(Y1_test_scaled.shape))\n",
    "\n",
    "    ## Training model\n",
    "    input_sahpe = X1_training_scaled.shape[1]\n",
    "    regressor = buildLSTMModel(input_sahpe)\n",
    "    history = regressor.fit(X1_training_scaled, Y1_training_scaled, epochs=1000, batch_size=4, shuffle=True)\n",
    "    # indicator = {\"Loss\":history.history[\"loss\"], \"accuracy\":history.history[\"accuracy\"]}\n",
    "    # print(indicator)\n",
    "    # show_raw_visualization(pd.DataFrame(indicator))\n",
    "\n",
    "    plt.plot(history.history[\"loss\"])\n",
    "    plt.plot(history.history[\"accuracy\"])\n",
    "    plt.legend(labels=['loss','accuracy'],loc='best')\n",
    "    plt.show()\n",
    "    ## Evaluate the model\n",
    "    scores = regressor.evaluate(X1_test_scaled, Y1_test_scaled) \n",
    "    print(scores)"
   ]
  },
  {
   "cell_type": "markdown",
   "metadata": {
    "id": "K5MO4Tk6DUKx"
   },
   "source": [
    "[提升深度學習模型的表現，你需要這20個技巧](https://www.itread01.com/content/1545435569.html)"
   ]
  },
  {
   "cell_type": "markdown",
   "metadata": {
    "id": "SfqmykiBJB9X"
   },
   "source": [
    "[Reference1](https://ithelp.ithome.com.tw/questions/10199599)\n",
    "[李鴻毅模型訓練不好怎麼辦](https://baubibi.medium.com/%E9%80%9F%E8%A8%98ai%E8%AA%B2%E7%A8%8B-%E6%B7%B1%E5%BA%A6%E5%AD%B8%E7%BF%92%E5%85%A5%E9%96%80-%E4%B8%80-68e27912ce30)"
   ]
  },
  {
   "cell_type": "code",
   "execution_count": null,
   "metadata": {
    "id": "_PnQzdwASWtp"
   },
   "outputs": [],
   "source": []
  },
  {
   "cell_type": "code",
   "execution_count": null,
   "metadata": {
    "id": "xINDj7n1SWpO"
   },
   "outputs": [],
   "source": []
  },
  {
   "cell_type": "code",
   "execution_count": null,
   "metadata": {
    "id": "R8un3y8aSWl_"
   },
   "outputs": [],
   "source": []
  },
  {
   "cell_type": "code",
   "execution_count": null,
   "metadata": {
    "id": "YDaf2R0iSWi6"
   },
   "outputs": [],
   "source": []
  },
  {
   "cell_type": "code",
   "execution_count": null,
   "metadata": {
    "id": "EcqYIyyISWfd"
   },
   "outputs": [],
   "source": []
  },
  {
   "cell_type": "code",
   "execution_count": null,
   "metadata": {
    "id": "SwtWUXz_SWcP"
   },
   "outputs": [],
   "source": []
  },
  {
   "cell_type": "markdown",
   "metadata": {
    "id": "ivkNKxiOSY2K"
   },
   "source": [
    "--------------------------------"
   ]
  },
  {
   "cell_type": "markdown",
   "metadata": {
    "id": "vEkGxrKFn3pa"
   },
   "source": [
    "**XGBClassifier for var imp**"
   ]
  },
  {
   "cell_type": "code",
   "execution_count": null,
   "metadata": {
    "id": "VSZFVyj3qQTG"
   },
   "outputs": [],
   "source": [
    "#!/usr/bin/env python3\n",
    "# -*- coding: utf-8 -*-\n",
    "\"\"\"\n",
    "Created on Sun Mar 11 15:33:20 2018\n",
    "\n",
    "@author: slave1\n",
    "\"\"\"\n",
    "\n",
    "from sklearn.metrics import confusion_matrix, auc, accuracy_score\n",
    "import pandas as pd\n",
    "import numpy as np\n",
    "import statsmodels.api as sm\n",
    "import itertools\n",
    "\n",
    "# ----設定繪圖-------\n",
    "import matplotlib.pyplot as plt\n",
    "plt.rcParams['axes.unicode_minus'] = False  \n",
    "from matplotlib.font_manager import FontProperties \n",
    "import seaborn as sns "
   ]
  },
  {
   "cell_type": "code",
   "execution_count": null,
   "metadata": {
    "id": "GRhE-YEv3pY1"
   },
   "outputs": [],
   "source": [
    "def model(clf, X_train,y_train) :\n",
    "    model = clf.fit(X_train, y_train)\n",
    "    \n",
    "    plot_name=\"XGboost\"\n",
    "    # y_pred = model.predict(X_train)\n",
    "    \n",
    "    \n",
    "    \n",
    "    feat_imp = model.feature_importances_\n",
    "\n",
    "    #取出所有feature的columns name\n",
    "    feat = X_train.columns.tolist()\n",
    "\n",
    "    res_data = pd.DataFrame({'Features': feat, 'Importance': feat_imp}).sort_values(by='Importance', ascending=True)\n",
    "    res_data.plot('Features', 'Importance', kind='barh', title='XGboostPerformance',stacked=True, figsize = (15,10))\n",
    "    plt.ylabel(plot_name+' Feature Importance Score')\n",
    "    plt.savefig(plot_name+'.png', dpi=300)\n",
    "    plt.show()\n",
    "    \n",
    "    \n",
    "    res_data = res_data.sort_values('Importance',ascending=False)\n",
    "    \n",
    "    # > 50%\n",
    "    res_data = res_data[res_data['Importance']>res_data['Importance'].describe()['50%']]\n",
    "    \n",
    "    print(res_data)\n",
    "\n",
    "    # print( \"################ summary ################ \")\n",
    "    # print(confusion_matrix(y_test, y_pred))\n",
    "    # print(\"Training Accuracy = {:.3f}\".format(model.score(X_train, y_train)))\n",
    "    # print(\"Test Accuracy = {:.3f}\".format(model.score(X_test, y_test)))\n",
    "    \n",
    "    \n",
    "    # importance\n",
    "    # print( '------------------ 應注意之變數 ------------------' )\n",
    "                    \n",
    "    # print(res_data)\n",
    "    \n",
    "    # print( '------------------' +plot_name+ '重要變數表------------------' )\n",
    "    # res_data.to_excel(plot_name+'重要變數表.xlsx')\n",
    "    \n",
    "    \n",
    "    return res_data"
   ]
  },
  {
   "cell_type": "code",
   "execution_count": null,
   "metadata": {
    "id": "Lsf6lEpun3be"
   },
   "outputs": [],
   "source": [
    "from xgboost import XGBClassifier"
   ]
  },
  {
   "cell_type": "code",
   "execution_count": null,
   "metadata": {
    "id": "1NTsFTHa_ZAR"
   },
   "outputs": [],
   "source": [
    "X1_training = pd.DataFrame(X1_train,columns=['CDCS', 'ADCS', 'CDWS', 'GL', 'NDCS', 'NRBCON', 'SL', 'ZSCS',\n",
    "'CCSP', 'EURUSD', 'USDCLP', 'USDCNY', 'USDPEN', 'USInflation', 'ChinaInflation'])\n",
    "\n",
    "Y1_training = pd.DataFrame(Y1_train[:,0],columns=['CCSP'])"
   ]
  },
  {
   "cell_type": "code",
   "execution_count": null,
   "metadata": {
    "colab": {
     "base_uri": "https://localhost:8080/",
     "height": 407
    },
    "executionInfo": {
     "elapsed": 15188,
     "status": "ok",
     "timestamp": 1615277333791,
     "user": {
      "displayName": "楊仁瀚",
      "photoUrl": "",
      "userId": "10638930497464391672"
     },
     "user_tz": -480
    },
    "id": "inkWlaBV-zMx",
    "outputId": "07dee115-20c0-4dfc-81ad-088190217d48"
   },
   "outputs": [
    {
     "name": "stderr",
     "output_type": "stream",
     "text": [
      "/usr/local/lib/python3.7/dist-packages/sklearn/preprocessing/_label.py:235: DataConversionWarning: A column-vector y was passed when a 1d array was expected. Please change the shape of y to (n_samples, ), for example using ravel().\n",
      "  y = column_or_1d(y, warn=True)\n",
      "/usr/local/lib/python3.7/dist-packages/sklearn/preprocessing/_label.py:268: DataConversionWarning: A column-vector y was passed when a 1d array was expected. Please change the shape of y to (n_samples, ), for example using ravel().\n",
      "  y = column_or_1d(y, warn=True)\n"
     ]
    },
    {
     "name": "stdout",
     "output_type": "stream",
     "text": [
      "[0.06640321 0.06501755 0.06805721 0.06537895 0.06708091 0.06619098\n",
      " 0.06479862 0.06617752 0.07113639 0.065066   0.06547924 0.06853863\n",
      " 0.06542354 0.06558694 0.06966425]\n"
     ]
    },
    {
     "data": {
      "image/png": "[encoded data removed]",
      "text/plain": [
       "<Figure size 432x288 with 1 Axes>"
      ]
     },
     "metadata": {
      "tags": []
     },
     "output_type": "display_data"
    }
   ],
   "source": [
    "# plot feature importance manually\n",
    "from numpy import loadtxt\n",
    "from xgboost import XGBClassifier\n",
    "from matplotlib import pyplot\n",
    "from sklearn.datasets import load_iris\n",
    "\n",
    "# fit model no training data\n",
    "model = XGBClassifier()\n",
    "\n",
    "model.fit(X1_training, Y1_training)\n",
    "# feature importance\n",
    "print(model.feature_importances_)\n",
    "# plot\n",
    "pyplot.bar(range(len(model.feature_importances_)), model.feature_importances_)\n",
    "pyplot.show()"
   ]
  },
  {
   "cell_type": "code",
   "execution_count": null,
   "metadata": {
    "colab": {
     "base_uri": "https://localhost:8080/",
     "height": 742
    },
    "executionInfo": {
     "elapsed": 49899,
     "status": "ok",
     "timestamp": 1615278067699,
     "user": {
      "displayName": "楊仁瀚",
      "photoUrl": "",
      "userId": "10638930497464391672"
     },
     "user_tz": -480
    },
    "id": "wW9izl2dn3UM",
    "outputId": "32888387-08c4-4f1b-f2cb-a6a63696e019"
   },
   "outputs": [
    {
     "name": "stderr",
     "output_type": "stream",
     "text": [
      "/usr/local/lib/python3.7/dist-packages/sklearn/preprocessing/_label.py:235: DataConversionWarning: A column-vector y was passed when a 1d array was expected. Please change the shape of y to (n_samples, ), for example using ravel().\n",
      "  y = column_or_1d(y, warn=True)\n",
      "/usr/local/lib/python3.7/dist-packages/sklearn/preprocessing/_label.py:268: DataConversionWarning: A column-vector y was passed when a 1d array was expected. Please change the shape of y to (n_samples, ), for example using ravel().\n",
      "  y = column_or_1d(y, warn=True)\n"
     ]
    },
    {
     "data": {
      "image/png": "[encoded data removed]",
      "text/plain": [
       "<Figure size 1080x720 with 1 Axes>"
      ]
     },
     "metadata": {
      "tags": []
     },
     "output_type": "display_data"
    },
    {
     "name": "stdout",
     "output_type": "stream",
     "text": [
      "   Features  Importance\n",
      "8      CCSP    0.071574\n",
      "2      CDWS    0.069432\n",
      "11   USDCNY    0.069095\n",
      "4      NDCS    0.068300\n",
      "0      CDCS    0.067508\n",
      "5    NRBCON    0.067338\n",
      "7      ZSCS    0.067019\n"
     ]
    }
   ],
   "source": [
    "res_data = model(\n",
    "        clf = XGBClassifier(n_estimators = 400, random_state = 0),\n",
    "        X_train=X1_training, \n",
    "        y_train=Y1_training\n",
    "    )\n",
    "\n",
    "#n_estimators = 樹的個數, random_state = 0, nthread =使用全部CPU進行並行運算"
   ]
  },
  {
   "cell_type": "markdown",
   "metadata": {
    "id": "SWaN40MQqVku"
   },
   "source": [
    "**Hyperparameter**"
   ]
  },
  {
   "cell_type": "code",
   "execution_count": null,
   "metadata": {
    "id": "dhbC5FRfN4wo"
   },
   "outputs": [],
   "source": [
    "import tensorflow as tf\n",
    "from tensorflow import keras\n",
    "from tensorflow.keras.layers import Dense"
   ]
  },
  {
   "cell_type": "code",
   "execution_count": null,
   "metadata": {
    "id": "JrlFxDFn9sdp"
   },
   "outputs": [],
   "source": [
    "epoch = 10\n",
    "batch_size = 10\n",
    "display_freq = 10\n",
    "learning_rate = 0.0001\n",
    "\n",
    "# The number of neuro in the first hidden layer\n",
    "h1 = 200"
   ]
  },
  {
   "cell_type": "code",
   "execution_count": null,
   "metadata": {
    "id": "x7UE6ZxLN5S2"
   },
   "outputs": [],
   "source": [
    "model = keras.Sequential([\n",
    "    keras.layers.Dense(units=10, activation='tanh'),\n",
    "    keras.layers.Dense(units=10, activation='tanh'),\n",
    "    keras.layers.Dense(units=4, activation='tanh')\n",
    "])"
   ]
  },
  {
   "cell_type": "code",
   "execution_count": null,
   "metadata": {
    "id": "-V-oi8X5QmyL"
   },
   "outputs": [],
   "source": [
    "model.compile(optimizer=keras.optimizers.Adam(0.01), \n",
    "              loss=tf.losses.MeanSquaredError(),\n",
    "              metrics=[\"accuracy\"])"
   ]
  },
  {
   "cell_type": "code",
   "execution_count": null,
   "metadata": {
    "id": "JFGDbBk9Uazu"
   },
   "outputs": [],
   "source": [
    "# history = model.fit(\n",
    "#     X1_training, Y1_training, \n",
    "#     epochs=50, \n",
    "#     batch_size=20, \n",
    "#     validation_data = (X1_test, Y1_test), \n",
    "#     shuffle=False\n",
    "# )"
   ]
  },
  {
   "cell_type": "code",
   "execution_count": null,
   "metadata": {
    "id": "JkAzggj1qVPV"
   },
   "outputs": [],
   "source": [
    "path = \"/content/gdrive/My Drive/Colab Notebooks/finalData.csv\"\n",
    "finalData = read(path)\n",
    "x_train=finalData.drop([\"Date\"], axis=1)\n",
    "y_train=np.array(finalData[\"CCSP\"], dtype=int)"
   ]
  },
  {
   "cell_type": "code",
   "execution_count": null,
   "metadata": {
    "colab": {
     "base_uri": "https://localhost:8080/"
    },
    "executionInfo": {
     "elapsed": 4818,
     "status": "ok",
     "timestamp": 1615208076229,
     "user": {
      "displayName": "楊仁瀚",
      "photoUrl": "",
      "userId": "10638930497464391672"
     },
     "user_tz": -480
    },
    "id": "IVHuvQwuq1dc",
    "outputId": "26058675-b361-40e3-98e4-c24de0601324"
   },
   "outputs": [
    {
     "name": "stdout",
     "output_type": "stream",
     "text": [
      "Index(['CDCS', 'CDWS', 'NDCS', 'CCSP', 'EURUSD', 'USDCLP', 'USDCNY', 'USDPEN',\n",
      "       'USInflation', 'ChinaInflation'],\n",
      "      dtype='object')\n"
     ]
    }
   ],
   "source": [
    "from sklearn.feature_selection import mutual_info_classif\n",
    "from sklearn.feature_selection import SelectKBest\n",
    "\n",
    "# 選擇要保留的特徵數\n",
    "select_k = 10\n",
    "\n",
    "selection = SelectKBest(mutual_info_classif, k=select_k).fit(x_train, y_train)\n",
    "\n",
    "# 顯示保留的欄位\n",
    "features = x_train.columns[selection.get_support()]\n",
    "print(features)"
   ]
  },
  {
   "cell_type": "markdown",
   "metadata": {
    "id": "YgwHrJbdyiga"
   },
   "source": [
    "### 被視為較有影響力的input factor\n",
    "['CDCS', 'CDWS', 'NDCS', 'CCSP', 'EURUSD', 'USDCLP', 'USDCNY', 'USDPEN', 'USInflation', 'ChinaInflation']]"
   ]
  }
 ],
 "metadata": {
  "accelerator": "TPU",
  "colab": {
   "authorship_tag": "ABX9TyO1iSFwy2XhsjMnEY4aEqrJ",
   "collapsed_sections": [],
   "name": "Model I-revised II.ipynb",
   "provenance": []
  },
  "kernelspec": {
   "display_name": "Python 3",
   "language": "python",
   "name": "python3"
  },
  "language_info": {
   "codemirror_mode": {
    "name": "ipython",
    "version": 3
   },
   "file_extension": ".py",
   "mimetype": "text/x-python",
   "name": "python",
   "nbconvert_exporter": "python",
   "pygments_lexer": "ipython3",
   "version": "3.6.9"
  }
 },
 "nbformat": 4,
 "nbformat_minor": 4
}
